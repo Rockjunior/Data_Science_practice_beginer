{
 "cells": [
  {
   "cell_type": "markdown",
   "id": "5c423408-2b86-45dc-95ea-12e64c511ab8",
   "metadata": {},
   "source": [
    "**Question 1**\n",
    "\n",
    "Given the Following Nested List. Write a Python Code to Extract the number 10 from the nested list."
   ]
  },
  {
   "cell_type": "code",
   "execution_count": 1,
   "id": "8a813086-5fe1-41bd-a9b8-8c4c5717716e",
   "metadata": {},
   "outputs": [],
   "source": [
    "data = [\n",
    "    [1, 2, [3, 4], 5],\n",
    "    [6, [7, 8, [9, 10]], 11],\n",
    "    [12, 13, 14]\n",
    "]\n"
   ]
  },
  {
   "cell_type": "markdown",
   "id": "23190ae9-0c65-40ba-9ab0-fe3a2f1433f5",
   "metadata": {},
   "source": [
    "**Question 2**\n",
    "\n",
    "Given the following nested dictionary. Write a Python Code to retrieve the plus4 value of the zipcode."
   ]
  },
  {
   "cell_type": "code",
   "execution_count": 2,
   "id": "c3a0e7bf-fc84-4e02-aea4-b3f903226ea8",
   "metadata": {},
   "outputs": [],
   "source": [
    "person = {\n",
    "    'name': 'Alice',\n",
    "    'age': 30,\n",
    "    'address': {\n",
    "        'city': 'New York',\n",
    "        'zipcode': {\n",
    "            'main': 10001,\n",
    "            'plus4': 1234\n",
    "        }\n",
    "    }\n",
    "}\n"
   ]
  },
  {
   "cell_type": "markdown",
   "id": "c258778b-1cd6-4937-8fe1-d165f99d942a",
   "metadata": {},
   "source": [
    "**Question 3**\n",
    "\n",
    "Use a while loop to sum all the even numbers between 1 and 100 "
   ]
  },
  {
   "cell_type": "markdown",
   "id": "e453507f-1c9c-4e54-a47c-072989ade670",
   "metadata": {},
   "source": [
    "**Question 4**\n",
    "\n",
    "Given a deeply nested list. Write a Python Code to Flatten this nested list into a single list: [1, 2, 3, 4, 5]"
   ]
  },
  {
   "cell_type": "code",
   "execution_count": 4,
   "id": "5e902e53-fefd-4bc3-aa7e-c1caea48b9d3",
   "metadata": {},
   "outputs": [],
   "source": [
    "nested_list = [1, [2, [3, [4, [5]]]]]\n"
   ]
  },
  {
   "cell_type": "markdown",
   "id": "b37d56d0-ec0c-41a5-9585-9c4ef8701f9a",
   "metadata": {},
   "source": [
    "**Question 5**\n",
    "\n",
    "You are given a list of sets, where each set contains integers. Write a Python code that finds the elements that are common to at least half of the sets in the list."
   ]
  },
  {
   "cell_type": "code",
   "execution_count": 6,
   "id": "5596332f-48ee-4374-8454-6e07fd444388",
   "metadata": {},
   "outputs": [],
   "source": [
    "sets_list = [\n",
    "    {1, 2, 3, 4, 5},\n",
    "    {4, 5, 6, 7, 8},\n",
    "    {5, 6, 7, 8, 9},\n",
    "    {1, 5, 9, 10, 11},\n",
    "    {5, 11, 12, 13, 14}\n",
    "]\n"
   ]
  },
  {
   "cell_type": "markdown",
   "id": "5d014064-b0c4-4c8f-b796-5ae331780915",
   "metadata": {},
   "source": [
    "**Question 6**\n",
    "\n",
    "Write a Python program using a while loop to reverse the digits of a given positive integer."
   ]
  },
  {
   "cell_type": "code",
   "execution_count": 8,
   "id": "9906f531-028b-4818-b6ff-a0f5217dd757",
   "metadata": {},
   "outputs": [],
   "source": [
    "n=12345"
   ]
  },
  {
   "cell_type": "markdown",
   "id": "26270911-e89e-4c43-9d96-f139224d8a27",
   "metadata": {},
   "source": [
    "**Question 7**\n",
    "\n",
    "Write a Python program using a while loop that repeatedly sums the digits of a given positive integer until the result is a single digit.\n",
    "\n",
    "For example, for n=9875, sum1=9+8+7+5=29 sum2=2+9=11 sum3=1+1=2 . So Answer is 2"
   ]
  },
  {
   "cell_type": "code",
   "execution_count": 10,
   "id": "81910959-6620-4d8d-80d2-b3a61dc2b77e",
   "metadata": {},
   "outputs": [],
   "source": [
    "n = 9875\n"
   ]
  },
  {
   "cell_type": "markdown",
   "id": "13b00005-4e24-4019-8208-d702415a8cf6",
   "metadata": {},
   "source": [
    "**Question 8**\n",
    "\n",
    "Write Python code to extract and print the names of people who have a salary greater than 70000."
   ]
  },
  {
   "cell_type": "code",
   "execution_count": 12,
   "id": "e7aa0235-2a94-4aac-8e03-01b1606388c5",
   "metadata": {},
   "outputs": [],
   "source": [
    "nested_tuple = (\n",
    "    ('Alice', 50000),\n",
    "    ('Bob', 60000),\n",
    "    ('Charlie', 45000),\n",
    "    ('David', 70000),\n",
    "    (('Eve', 80000), ('Frank', 55000)),\n",
    "    (('Grace', 75000), ('Helen', 65000)),\n",
    "    ((('Ivy', 72000), ('Jack', 58000)), (('Kate', 68000), ('Larry', 63000)))\n",
    ")\n"
   ]
  },
  {
   "cell_type": "markdown",
   "id": "18eb3f9a-23f2-4ad4-916b-cd4bdf3d6501",
   "metadata": {},
   "source": [
    "**Question 9**\n",
    "\n",
    "Write Python code using dictionary comprehension to extract and print the names of cities with a total population greater than or equal to 3000000."
   ]
  },
  {
   "cell_type": "code",
   "execution_count": 16,
   "id": "4977748c-d48a-4a4f-95bb-6d5061e4ad34",
   "metadata": {},
   "outputs": [],
   "source": [
    "nested_dict = {\n",
    "    'New York': {\n",
    "        'Manhattan': 1636268,\n",
    "        'Brooklyn': 2559903,\n",
    "        'Queens': 2253858,\n",
    "        'Bronx': 1418207,\n",
    "        'Staten Island': 476015\n",
    "    },\n",
    "    'Los Angeles': {\n",
    "        'Central LA': 1253400,\n",
    "        'Westside': 1297759,\n",
    "        'San Fernando Valley': 1764282,\n",
    "        'South LA': 1114964\n",
    "    },\n",
    "    'Chicago': {\n",
    "        'Downtown': 2716000,\n",
    "        'North Side': 1973000,\n",
    "        'South Side': 1745000\n",
    "    }\n",
    "}\n"
   ]
  },
  {
   "cell_type": "markdown",
   "id": "4ba59c5c-c904-471c-8696-ad39cfe73098",
   "metadata": {},
   "source": [
    "**Question 10**\n",
    "\n",
    "Write a Python program that takes a list of integers as input, sorts the list in descending order, and returns a list containing only the distinct elements from the sorted list."
   ]
  },
  {
   "cell_type": "code",
   "execution_count": 17,
   "id": "ba907256-44c8-4299-ab5c-7a58a6ff91ec",
   "metadata": {},
   "outputs": [],
   "source": [
    "arr = [3, 1, 5, 2, 4, 1, 3, 5]\n"
   ]
  },
  {
   "cell_type": "code",
   "execution_count": null,
   "id": "19c64769-3f56-4cd9-b7d9-16a0bdf1e78e",
   "metadata": {},
   "outputs": [],
   "source": []
  }
 ],
 "metadata": {
  "kernelspec": {
   "display_name": "Python 3 (ipykernel)",
   "language": "python",
   "name": "python3"
  },
  "language_info": {
   "codemirror_mode": {
    "name": "ipython",
    "version": 3
   },
   "file_extension": ".py",
   "mimetype": "text/x-python",
   "name": "python",
   "nbconvert_exporter": "python",
   "pygments_lexer": "ipython3",
   "version": "3.11.8"
  }
 },
 "nbformat": 4,
 "nbformat_minor": 5
}
