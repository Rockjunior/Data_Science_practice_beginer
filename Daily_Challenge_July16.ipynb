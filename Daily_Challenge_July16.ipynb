{
 "cells": [
  {
   "cell_type": "markdown",
   "id": "4221f9eb-836e-45e8-86ed-b5399fb7f556",
   "metadata": {},
   "source": [
    "# Daily Challenge Questions July 16"
   ]
  },
  {
   "cell_type": "markdown",
   "id": "e71d7e35-2485-40c2-9e12-18b4d04dd701",
   "metadata": {},
   "source": [
    "# Question 1:\n",
    "\n",
    "Given the nested tuple info = ((('Emma', 26), ('Frank', 32)), (('Grace', 29), ('Henry', 27)), (('Ivy', 30), ('Jack', 25)), (('Kate', 28), ('Leo', 31))).\n",
    "\n",
    "Using tuple unpacking and list comprehension, create a new list containing the **ages of all individuals whose names end with 'y'.**"
   ]
  },
  {
   "cell_type": "code",
   "execution_count": 1,
   "id": "72807312-6d82-4b89-89b8-3f5ebf4fc340",
   "metadata": {},
   "outputs": [],
   "source": [
    "info = ((('Emma', 26), ('Frank', 32)), (('Grace', 29), ('Henry', 27)), (('Ivy', 30), ('Jack', 25)), (('Kate', 28), ('Leo', 31)))\n",
    "\n"
   ]
  },
  {
   "cell_type": "code",
   "execution_count": 3,
   "id": "61fa2104",
   "metadata": {},
   "outputs": [
    {
     "data": {
      "text/plain": [
       "[27, 30]"
      ]
     },
     "execution_count": 3,
     "metadata": {},
     "output_type": "execute_result"
    }
   ],
   "source": [
    "#Question 1\n",
    "\n",
    "info = ((('Emma', 26), ('Frank', 32)),\n",
    "\n",
    "(('Grace', 29), ('Henry', 27)), (('Ivy', 30),\n",
    "\n",
    "('Jack', 25)), (('Kate', 28), ('Leo', 31)))\n",
    "\n",
    "new_list = [age for i in info for (name,age) in i if name[-1]=='y']\n",
    "\n",
    "new_list\n"
   ]
  },
  {
   "cell_type": "markdown",
   "id": "1bf9e7f4-885e-4f16-8e73-1edc83028db6",
   "metadata": {},
   "source": [
    " # Question 2:\n",
    " \n",
    "Given the nested list data = [[['a', 'b', 'c'], ['d', 'e', 'f']], [['g', 'h', 'i'], ['j', 'k', 'l']]].\n",
    "\n",
    "Using list comprehension, create a **new list containing all characters from data that are not vowels ('a', 'e', 'i', 'o', 'u').**"
   ]
  },
  {
   "cell_type": "code",
   "execution_count": 3,
   "id": "1feeba73-778c-49dd-8c9c-580d0dc9b364",
   "metadata": {},
   "outputs": [],
   "source": [
    "data = [[['a', 'b', 'c'], ['d', 'e', 'f']], [['g', 'h', 'i'], ['j', 'k', 'l']]]\n",
    "\n",
    "\n"
   ]
  },
  {
   "cell_type": "code",
   "execution_count": 4,
   "id": "5b5f77af",
   "metadata": {},
   "outputs": [
    {
     "data": {
      "text/plain": [
       "['b', 'c', 'd', 'f', 'g', 'h', 'j', 'k', '1']"
      ]
     },
     "execution_count": 4,
     "metadata": {},
     "output_type": "execute_result"
    }
   ],
   "source": [
    "#Question 2\n",
    "\n",
    "data = [[['a', 'b', 'c'], ['d', 'e', 'f']], [['g', 'h', 'i'], ['j', 'k', '1']]]\n",
    "\n",
    "New_list = [j for i in data for s in i for j in s if j not in ['a','e','i','o','u']]\n",
    "\n",
    "New_list"
   ]
  },
  {
   "cell_type": "markdown",
   "id": "07ac759c-f8ac-4779-ba86-0a0a2cea5a6e",
   "metadata": {},
   "source": [
    "# Question 3\n",
    "\n",
    "Given the nested dictionary **data** = {'A': {'x': [1, 2, 3]}, 'B': {'y': [4, 5, 6]}}, using dictionary comprehension, create a new dictionary where each key is from the original dictionary and each value is the sum of its associated list values.\n",
    "\n",
    "**Output:**\n",
    "\n",
    "For the given data, the output dictionary should be {'A': 6, 'B': 15}.\n",
    "\n"
   ]
  },
  {
   "cell_type": "code",
   "execution_count": 4,
   "id": "d693d5d8-66b4-4b97-bab8-223ab01f6e24",
   "metadata": {},
   "outputs": [],
   "source": [
    "data = {'A': {'x': [1, 2, 3]}, 'B': {'y': [4, 5, 6]}}"
   ]
  },
  {
   "cell_type": "code",
   "execution_count": 5,
   "id": "518602a5-48b1-4f76-97ed-9964897935c2",
   "metadata": {},
   "outputs": [
    {
     "data": {
      "text/plain": [
       "{'A': 6, 'B': 15}"
      ]
     },
     "execution_count": 5,
     "metadata": {},
     "output_type": "execute_result"
    }
   ],
   "source": [
    "#Question 3\n",
    "\n",
    "data = {'A': {'x': [1, 2, 3]}, 'B': {'y': [4, 5, 6]}}\n",
    "\n",
    "new_dict = {i:sum(j) for i in data.keys() for j in data[i].values()}\n",
    "\n",
    "new_dict"
   ]
  }
 ],
 "metadata": {
  "kernelspec": {
   "display_name": "Python 3 (ipykernel)",
   "language": "python",
   "name": "python3"
  },
  "language_info": {
   "codemirror_mode": {
    "name": "ipython",
    "version": 3
   },
   "file_extension": ".py",
   "mimetype": "text/x-python",
   "name": "python",
   "nbconvert_exporter": "python",
   "pygments_lexer": "ipython3",
   "version": "3.12.4"
  }
 },
 "nbformat": 4,
 "nbformat_minor": 5
}
