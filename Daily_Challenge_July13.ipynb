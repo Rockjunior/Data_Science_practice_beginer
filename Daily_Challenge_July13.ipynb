{
 "cells": [
  {
   "cell_type": "markdown",
   "id": "4221f9eb-836e-45e8-86ed-b5399fb7f556",
   "metadata": {},
   "source": [
    "# Daily Challenge Questions"
   ]
  },
  {
   "cell_type": "markdown",
   "id": "e71d7e35-2485-40c2-9e12-18b4d04dd701",
   "metadata": {},
   "source": [
    "# Question 1:\n",
    "\n",
    "Given the nested list **data** = [[['a', 'b', 'c'], ['d', 'e', 'f']], [['g', 'h', 'i'], ['j', 'k', 'l']]], using list comprehension, **create a new list containing all vowels from data.**\n",
    "\n",
    "**Output:**\n",
    "\n",
    "For the given data, the output list should be **['a', 'e', 'i'].**"
   ]
  },
  {
   "cell_type": "code",
   "execution_count": 2,
   "id": "72807312-6d82-4b89-89b8-3f5ebf4fc340",
   "metadata": {},
   "outputs": [],
   "source": [
    "data = [[['a', 'b', 'c'], ['d', 'e', 'f']], [['g', 'h', 'i'], ['j', 'k', 'l']]]\n"
   ]
  },
  {
   "cell_type": "markdown",
   "id": "1bf9e7f4-885e-4f16-8e73-1edc83028db6",
   "metadata": {},
   "source": [
    " # Question 2:\n",
    " \n",
    "\n",
    "Given the nested tuple **info** = ((('Alice', 25), ('Bob', 30)), (('Charlie', 22), ('David', 28))), using tuple unpacking and list comprehension, create a new list containing the **ages of all individuals whose names start with 'D'**.\n",
    "\n",
    "**Output:**\n",
    "\n",
    "For the given info, the output list should be [28,26,32,27]."
   ]
  },
  {
   "cell_type": "code",
   "execution_count": 3,
   "id": "1feeba73-778c-49dd-8c9c-580d0dc9b364",
   "metadata": {},
   "outputs": [],
   "source": [
    "info = (\n",
    "    (('Alice', 25), ('Bob', 30)),\n",
    "    (('Charlie', 22), ('David', 28)),\n",
    "    (('Diana', 26), ('Derek', 32)),\n",
    "    (('Daniel', 27), ('Emily', 29))\n",
    ")\n"
   ]
  },
  {
   "cell_type": "markdown",
   "id": "07ac759c-f8ac-4779-ba86-0a0a2cea5a6e",
   "metadata": {},
   "source": [
    "# Question 3\n",
    "\n",
    "Given the nested dictionary **data** = {'A': {'x': [1, 2, 3]}, 'B': {'y': [4, 5, 6]}}, using dictionary comprehension, create a new dictionary where each key is from the original dictionary and each value is the sum of its associated list values.\n",
    "\n",
    "**Output:**\n",
    "\n",
    "For the given data, the output dictionary should be {'A': 6, 'B': 15}.\n",
    "\n"
   ]
  },
  {
   "cell_type": "code",
   "execution_count": 4,
   "id": "d693d5d8-66b4-4b97-bab8-223ab01f6e24",
   "metadata": {},
   "outputs": [],
   "source": [
    "data = {'A': {'x': [1, 2, 3]}, 'B': {'y': [4, 5, 6]}}"
   ]
  },
  {
   "cell_type": "code",
   "execution_count": null,
   "id": "518602a5-48b1-4f76-97ed-9964897935c2",
   "metadata": {},
   "outputs": [],
   "source": []
  }
 ],
 "metadata": {
  "kernelspec": {
   "display_name": "Python 3 (ipykernel)",
   "language": "python",
   "name": "python3"
  },
  "language_info": {
   "codemirror_mode": {
    "name": "ipython",
    "version": 3
   },
   "file_extension": ".py",
   "mimetype": "text/x-python",
   "name": "python",
   "nbconvert_exporter": "python",
   "pygments_lexer": "ipython3",
   "version": "3.12.4"
  }
 },
 "nbformat": 4,
 "nbformat_minor": 5
}
