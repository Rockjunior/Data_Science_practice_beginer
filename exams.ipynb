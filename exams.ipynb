{
 "cells": [
  {
   "cell_type": "markdown",
   "metadata": {},
   "source": [
    "Exam"
   ]
  },
  {
   "cell_type": "code",
   "execution_count": 1,
   "metadata": {},
   "outputs": [],
   "source": [
    "import pandas as pd"
   ]
  },
  {
   "cell_type": "code",
   "execution_count": 2,
   "metadata": {},
   "outputs": [],
   "source": [
    "exam = pd.read_csv('exams.csv')"
   ]
  },
  {
   "cell_type": "code",
   "execution_count": 3,
   "metadata": {},
   "outputs": [
    {
     "name": "stdout",
     "output_type": "stream",
     "text": [
      "     gender race/ethnicity parental_level of education         lunch  \\\n",
      "0    female        group D                some college      standard   \n",
      "1      male        group D          associate's degree      standard   \n",
      "2    female        group D                some college  free/reduced   \n",
      "3      male        group B                some college  free/reduced   \n",
      "4    female        group D          associate's degree      standard   \n",
      "..      ...            ...                         ...           ...   \n",
      "995    male        group C                some college      standard   \n",
      "996    male        group C                some college      standard   \n",
      "997  female        group A                 high school      standard   \n",
      "998    male        group E                 high school      standard   \n",
      "999    male        group D                 high school      standard   \n",
      "\n",
      "    test preparation course  math_score  reading_score  writing_score  \n",
      "0                 completed          59             70             78  \n",
      "1                      none          96             93             87  \n",
      "2                      none          57             76             77  \n",
      "3                      none          70             70             63  \n",
      "4                      none          83             85             86  \n",
      "..                      ...         ...            ...            ...  \n",
      "995                    none          77             77             71  \n",
      "996                    none          80             66             66  \n",
      "997               completed          67             86             86  \n",
      "998                    none          80             72             62  \n",
      "999                    none          58             47             45  \n",
      "\n",
      "[1000 rows x 8 columns]\n",
      "<bound method NDFrame.head of      gender race/ethnicity parental_level of education         lunch  \\\n",
      "0    female        group D                some college      standard   \n",
      "1      male        group D          associate's degree      standard   \n",
      "2    female        group D                some college  free/reduced   \n",
      "3      male        group B                some college  free/reduced   \n",
      "4    female        group D          associate's degree      standard   \n",
      "..      ...            ...                         ...           ...   \n",
      "995    male        group C                some college      standard   \n",
      "996    male        group C                some college      standard   \n",
      "997  female        group A                 high school      standard   \n",
      "998    male        group E                 high school      standard   \n",
      "999    male        group D                 high school      standard   \n",
      "\n",
      "    test preparation course  math_score  reading_score  writing_score  \n",
      "0                 completed          59             70             78  \n",
      "1                      none          96             93             87  \n",
      "2                      none          57             76             77  \n",
      "3                      none          70             70             63  \n",
      "4                      none          83             85             86  \n",
      "..                      ...         ...            ...            ...  \n",
      "995                    none          77             77             71  \n",
      "996                    none          80             66             66  \n",
      "997               completed          67             86             86  \n",
      "998                    none          80             72             62  \n",
      "999                    none          58             47             45  \n",
      "\n",
      "[1000 rows x 8 columns]>\n"
     ]
    }
   ],
   "source": [
    "print(exam)\n",
    "print(exam.head)"
   ]
  },
  {
   "cell_type": "code",
   "execution_count": 15,
   "metadata": {},
   "outputs": [
    {
     "name": "stdout",
     "output_type": "stream",
     "text": [
      "['gender', 'race/ethnicity', 'parental_level of education', 'lunch', 'test preparation course', 'math_score', 'reading_score', 'writing_score']\n",
      "['gender', 'race/ethnicity', 'parental_level of education', 'lunch', 'test preparation course', 'math_score', 'reading_score', 'writing_score']\n"
     ]
    }
   ],
   "source": [
    "print(exam.columns.tolist())"
   ]
  },
  {
   "cell_type": "code",
   "execution_count": 16,
   "metadata": {},
   "outputs": [
    {
     "name": "stdout",
     "output_type": "stream",
     "text": [
      "   gender race/ethnicity  ... reading_score writing_score\n",
      "0  female        group D  ...            70            78\n",
      "1    male        group D  ...            93            87\n",
      "2  female        group D  ...            76            77\n",
      "3    male        group B  ...            70            63\n",
      "4  female        group D  ...            85            86\n",
      "\n",
      "[5 rows x 8 columns]\n",
      "   gender race/ethnicity  ... reading_score writing_score\n",
      "0  female        group D  ...            70            78\n",
      "1    male        group D  ...            93            87\n",
      "2  female        group D  ...            76            77\n",
      "3    male        group B  ...            70            63\n",
      "4  female        group D  ...            85            86\n",
      "\n",
      "[5 rows x 8 columns]\n"
     ]
    }
   ],
   "source": [
    "print(exam.head())"
   ]
  },
  {
   "cell_type": "code",
   "execution_count": 17,
   "metadata": {},
   "outputs": [
    {
     "name": "stdout",
     "output_type": "stream",
     "text": [
      "        math_score  reading_score  writing_score\n",
      "count  1000.000000    1000.000000    1000.000000\n",
      "mean     67.810000      70.382000      69.140000\n",
      "std      15.250196      14.107413      15.025917\n",
      "min      15.000000      25.000000      15.000000\n",
      "25%      58.000000      61.000000      59.000000\n",
      "50%      68.000000      70.500000      70.000000\n",
      "75%      79.250000      80.000000      80.000000\n",
      "max     100.000000     100.000000     100.000000\n",
      "        math_score  reading_score  writing_score\n",
      "count  1000.000000    1000.000000    1000.000000\n",
      "mean     67.810000      70.382000      69.140000\n",
      "std      15.250196      14.107413      15.025917\n",
      "min      15.000000      25.000000      15.000000\n",
      "25%      58.000000      61.000000      59.000000\n",
      "50%      68.000000      70.500000      70.000000\n",
      "75%      79.250000      80.000000      80.000000\n",
      "max     100.000000     100.000000     100.000000\n"
     ]
    }
   ],
   "source": [
    "print(exam.describe())"
   ]
  },
  {
   "cell_type": "code",
   "execution_count": 18,
   "metadata": {},
   "outputs": [
    {
     "name": "stdout",
     "output_type": "stream",
     "text": [
      "<class 'pandas.core.frame.DataFrame'>\n",
      "RangeIndex: 1000 entries, 0 to 999\n",
      "Data columns (total 8 columns):\n",
      " #   Column                       Non-Null Count  Dtype \n",
      "---  ------                       --------------  ----- \n",
      " 0   gender                       1000 non-null   object\n",
      " 1   race/ethnicity               1000 non-null   object\n",
      " 2   parental_level of education  1000 non-null   object\n",
      " 3   lunch                        1000 non-null   object\n",
      " 4   test preparation course      1000 non-null   object\n",
      " 5   math_score                   1000 non-null   int64 \n",
      " 6   reading_score                1000 non-null   int64 \n",
      " 7   writing_score                1000 non-null   int64 \n",
      "dtypes: int64(3), object(5)\n",
      "memory usage: 62.6+ KB\n",
      "None\n",
      "<class 'pandas.core.frame.DataFrame'>\n",
      "RangeIndex: 1000 entries, 0 to 999\n",
      "Data columns (total 8 columns):\n",
      " #   Column                       Non-Null Count  Dtype \n",
      "---  ------                       --------------  ----- \n",
      " 0   gender                       1000 non-null   object\n",
      " 1   race/ethnicity               1000 non-null   object\n",
      " 2   parental_level of education  1000 non-null   object\n",
      " 3   lunch                        1000 non-null   object\n",
      " 4   test preparation course      1000 non-null   object\n",
      " 5   math_score                   1000 non-null   int64 \n",
      " 6   reading_score                1000 non-null   int64 \n",
      " 7   writing_score                1000 non-null   int64 \n",
      "dtypes: int64(3), object(5)\n",
      "memory usage: 62.6+ KB\n",
      "None\n"
     ]
    }
   ],
   "source": [
    "print(exam.info())"
   ]
  },
  {
   "cell_type": "markdown",
   "metadata": {},
   "source": [
    "Checking for missing values"
   ]
  },
  {
   "cell_type": "code",
   "execution_count": 19,
   "metadata": {},
   "outputs": [
    {
     "name": "stdout",
     "output_type": "stream",
     "text": [
      "gender                         0\n",
      "race/ethnicity                 0\n",
      "parental_level of education    0\n",
      "lunch                          0\n",
      "test preparation course        0\n",
      "math_score                     0\n",
      "reading_score                  0\n",
      "writing_score                  0\n",
      "dtype: int64\n",
      "gender                         0\n",
      "race/ethnicity                 0\n",
      "parental_level of education    0\n",
      "lunch                          0\n",
      "test preparation course        0\n",
      "math_score                     0\n",
      "reading_score                  0\n",
      "writing_score                  0\n",
      "dtype: int64\n"
     ]
    }
   ],
   "source": [
    "print(exam.isnull().sum())"
   ]
  },
  {
   "cell_type": "markdown",
   "metadata": {},
   "source": [
    "Drop rows with missing values"
   ]
  },
  {
   "cell_type": "code",
   "execution_count": 20,
   "metadata": {},
   "outputs": [],
   "source": [
    "exam = exam.dropna()"
   ]
  },
  {
   "cell_type": "markdown",
   "metadata": {},
   "source": [
    "# Box plots for each score"
   ]
  },
  {
   "cell_type": "code",
   "execution_count": 22,
   "metadata": {},
   "outputs": [
    {
     "data": {
      "image/png": "[encoded data removed]",
      "text/plain": [
       "<Figure size 1200x600 with 1 Axes>"
      ]
     },
     "metadata": {},
     "output_type": "display_data"
    }
   ],
   "source": [
    "import seaborn as sns\n",
    "\n",
    "plt.figure(figsize=(12, 6))\n",
    "sns.boxplot(data=df[['math_score', 'reading_score', 'writing_score']])\n",
    "plt.show()\n"
   ]
  },
  {
   "cell_type": "markdown",
   "metadata": {},
   "source": [
    "# Histogram for each score"
   ]
  },
  {
   "cell_type": "code",
   "execution_count": 21,
   "metadata": {},
   "outputs": [
    {
     "data": {
      "image/png": "[encoded data removed]",
      "text/plain": [
       "<Figure size 1000x600 with 4 Axes>"
      ]
     },
     "metadata": {},
     "output_type": "display_data"
    }
   ],
   "source": [
    "import matplotlib.pyplot as plt\n",
    "\n",
    "df[['math_score', 'reading_score', 'writing_score']].hist(bins=10, figsize=(10, 6))\n",
    "plt.show()\n"
   ]
  }
 ],
 "metadata": {
  "kernelspec": {
   "display_name": "Python 3",
   "language": "python",
   "name": "python3"
  },
  "language_info": {
   "codemirror_mode": {
    "name": "ipython",
    "version": 3
   },
   "file_extension": ".py",
   "mimetype": "text/x-python",
   "name": "python",
   "nbconvert_exporter": "python",
   "pygments_lexer": "ipython3",
   "version": "3.12.4"
  }
 },
 "nbformat": 4,
 "nbformat_minor": 2
}
