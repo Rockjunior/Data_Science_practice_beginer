{
 "cells": [
  {
   "cell_type": "markdown",
   "id": "6240fbf0-a271-4fce-8783-712cd2a44bdb",
   "metadata": {},
   "source": [
    "# Day 7 : Challenge Questions- Dictionary\n",
    "\n",
    "Solve Each of the Below Questions and Submit Your Answers on Linked in Post within 48 Hours. Attach Screenshots Preferably. If you are not able to Solve, comment \"Unable to Solve\" or \"Need More Time\""
   ]
  },
  {
   "cell_type": "markdown",
   "id": "32d8ec23-5d12-4579-b3c1-d8d9f5298535",
   "metadata": {},
   "source": [
    "# Question 1: Understanding Set Operations and Methods\n",
    "\n",
    "**Creating and Accessing Sets**\n",
    "\n",
    "1. Create a set A containing the elements: {2, 4, 6, 8, 10}.\n",
    "2. Create another set B with the elements: {1, 2, 3, 4, 5}.\n",
    "3. Verify if the element 6 is in set A and if 7 is not in set B.\n",
    "\n",
    "**Set Operations**\n",
    "\n",
    "1. Find the union of sets A and B.\n",
    "2. Determine the intersection of sets A and B.\n",
    "3. Compute the difference of set A from set B.\n",
    "\n",
    "**Modifying Sets**\n",
    "\n",
    "1. Add the elements 12 and 14 to set A.\n",
    "2. Remove the element 3 from set B.\n",
    "3. Clear all elements from set A and confirm its emptiness.\n"
   ]
  },
  {
   "cell_type": "code",
   "execution_count": null,
   "id": "01097859-466f-4c87-96d7-6ffbfa5f43c7",
   "metadata": {},
   "outputs": [],
   "source": []
  },
  {
   "cell_type": "code",
   "execution_count": null,
   "id": "07084cbf-f6dd-4c04-a4e5-3c6c2472a41b",
   "metadata": {},
   "outputs": [],
   "source": []
  }
 ],
 "metadata": {
  "kernelspec": {
   "display_name": "Python 3 (ipykernel)",
   "language": "python",
   "name": "python3"
  },
  "language_info": {
   "codemirror_mode": {
    "name": "ipython",
    "version": 3
   },
   "file_extension": ".py",
   "mimetype": "text/x-python",
   "name": "python",
   "nbconvert_exporter": "python",
   "pygments_lexer": "ipython3",
   "version": "3.11.8"
  }
 },
 "nbformat": 4,
 "nbformat_minor": 5
}
